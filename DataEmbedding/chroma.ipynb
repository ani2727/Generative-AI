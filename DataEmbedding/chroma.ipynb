{
 "cells": [
  {
   "cell_type": "markdown",
   "metadata": {},
   "source": [
    "### Chroma \n",
    "Chroma is a AI native open-source vector database focused on develope productivity and happiness. Chroma is licensed under Apache 2.0."
   ]
  },
  {
   "cell_type": "code",
   "execution_count": 1,
   "metadata": {},
   "outputs": [],
   "source": [
    "from langchain_chroma import Chroma\n",
    "from langchain_community.document_loaders import TextLoader\n",
    "from langchain_text_splitters import RecursiveCharacterTextSplitter\n",
    "from langchain_community.embeddings import OllamaEmbeddings\n"
   ]
  },
  {
   "cell_type": "code",
   "execution_count": 3,
   "metadata": {},
   "outputs": [
    {
     "data": {
      "text/plain": [
       "[Document(metadata={'source': 'speech.txt'}, page_content='Rajiv Gandhi University of Knowledge Technologies (RGUKT) Basar is unique university which actively uses Information and Communication Technology (ICT) in teaching. It is perhaps the first of its kind in the country with an educational model that is intensely ICT based. Established by the Government of erstwhile Andhra Pradesh vide a special act of legislation, this campus is loacated at the holy land of Basar (the abode of Gnyana Saraswathi, Goddess of knowledge) in Nirmal District (Telangana State). The campus is set in about 272 acres of salubrious and serene surrounding just a short distance from the banks of river Godavari.\\n\\nThe primary objective of establishing RGUKT is to provide high quality educational opportunities for the rural youth of the state. The selection process follows approved rules and has very high competition where only the top rural graduates (mostly within the top 5%) get the opportunity to study at RGUKT.\\n\\nThe University houses about 6000 students along with 250 faculty members and 120 support staff within its campus. The residential university comprises of Academic blocks with more than 140 ICT equipped classrooms, well – equipped laboratories, libraries with more than 1,00,000 volumes, boys’ and girls’ hostels and mess blocks that provide quality and nutritious food. The campus is more or less self-sustained with a Laundromat, bank, ATM, Shopping Complex, post office, primary health center etc. It also has indoor and outdoor recreational facilities, well equipped gymnasium, courts for basketball, badminton, table tennies, cricket, other sports and games.\\n\\nRGUKT has slowly but surely risen in reputation as its graduating engineers have acted as perfect brand ambassadors for the university. Batches of engineers graduated from RGUKT are placed in various companies, Government services and public sector. Some of them have also set up their own business and ventures as entrepreneurs. The metamorphosis of these students from reticent youngsters unsure of themselves into professionals rubbing shoulders with the best is a matter of great satisfaction and also a testimony to the founding principles of the University.')]"
      ]
     },
     "execution_count": 3,
     "metadata": {},
     "output_type": "execute_result"
    }
   ],
   "source": [
    "loader = TextLoader('speech.txt')\n",
    "data = loader.load()\n",
    "data"
   ]
  },
  {
   "cell_type": "code",
   "execution_count": 5,
   "metadata": {},
   "outputs": [
    {
     "data": {
      "text/plain": [
       "[Document(metadata={'source': 'speech.txt'}, page_content='Rajiv Gandhi University of Knowledge Technologies (RGUKT) Basar is unique university which actively uses Information and Communication Technology (ICT) in teaching. It is perhaps the first of its kind in the country with an educational model that is intensely ICT based. Established by the Government'),\n",
       " Document(metadata={'source': 'speech.txt'}, page_content='Established by the Government of erstwhile Andhra Pradesh vide a special act of legislation, this campus is loacated at the holy land of Basar (the abode of Gnyana Saraswathi, Goddess of knowledge) in Nirmal District (Telangana State). The campus is set in about 272 acres of salubrious and serene'),\n",
       " Document(metadata={'source': 'speech.txt'}, page_content='of salubrious and serene surrounding just a short distance from the banks of river Godavari.'),\n",
       " Document(metadata={'source': 'speech.txt'}, page_content='The primary objective of establishing RGUKT is to provide high quality educational opportunities for the rural youth of the state. The selection process follows approved rules and has very high competition where only the top rural graduates (mostly within the top 5%) get the opportunity to study at'),\n",
       " Document(metadata={'source': 'speech.txt'}, page_content='the opportunity to study at RGUKT.'),\n",
       " Document(metadata={'source': 'speech.txt'}, page_content='The University houses about 6000 students along with 250 faculty members and 120 support staff within its campus. The residential university comprises of Academic blocks with more than 140 ICT equipped classrooms, well – equipped laboratories, libraries with more than 1,00,000 volumes, boys’ and'),\n",
       " Document(metadata={'source': 'speech.txt'}, page_content='1,00,000 volumes, boys’ and girls’ hostels and mess blocks that provide quality and nutritious food. The campus is more or less self-sustained with a Laundromat, bank, ATM, Shopping Complex, post office, primary health center etc. It also has indoor and outdoor recreational facilities, well'),\n",
       " Document(metadata={'source': 'speech.txt'}, page_content='recreational facilities, well equipped gymnasium, courts for basketball, badminton, table tennies, cricket, other sports and games.'),\n",
       " Document(metadata={'source': 'speech.txt'}, page_content='RGUKT has slowly but surely risen in reputation as its graduating engineers have acted as perfect brand ambassadors for the university. Batches of engineers graduated from RGUKT are placed in various companies, Government services and public sector. Some of them have also set up their own business'),\n",
       " Document(metadata={'source': 'speech.txt'}, page_content='set up their own business and ventures as entrepreneurs. The metamorphosis of these students from reticent youngsters unsure of themselves into professionals rubbing shoulders with the best is a matter of great satisfaction and also a testimony to the founding principles of the University.')]"
      ]
     },
     "execution_count": 5,
     "metadata": {},
     "output_type": "execute_result"
    }
   ],
   "source": [
    "text_splitter = RecursiveCharacterTextSplitter(chunk_size=300,chunk_overlap=30)\n",
    "text = text_splitter.split_documents(data)\n",
    "text"
   ]
  },
  {
   "cell_type": "code",
   "execution_count": 6,
   "metadata": {},
   "outputs": [
    {
     "data": {
      "text/plain": [
       "OllamaEmbeddings(base_url='http://localhost:11434', model='gemma2:2b', embed_instruction='passage: ', query_instruction='query: ', mirostat=None, mirostat_eta=None, mirostat_tau=None, num_ctx=None, num_gpu=None, num_thread=None, repeat_last_n=None, repeat_penalty=None, temperature=None, stop=None, tfs_z=None, top_k=None, top_p=None, show_progress=False, headers=None, model_kwargs=None)"
      ]
     },
     "execution_count": 6,
     "metadata": {},
     "output_type": "execute_result"
    }
   ],
   "source": [
    "embeddings = OllamaEmbeddings(model=\"gemma2:2b\")\n",
    "embeddings"
   ]
  },
  {
   "cell_type": "code",
   "execution_count": 7,
   "metadata": {},
   "outputs": [
    {
     "data": {
      "text/plain": [
       "<langchain_chroma.vectorstores.Chroma at 0x76dda53145b0>"
      ]
     },
     "execution_count": 7,
     "metadata": {},
     "output_type": "execute_result"
    }
   ],
   "source": [
    "db = Chroma.from_documents(text,embeddings)\n",
    "db"
   ]
  },
  {
   "cell_type": "code",
   "execution_count": 12,
   "metadata": {},
   "outputs": [
    {
     "data": {
      "text/plain": [
       "'RGUKT has slowly but surely risen in reputation as its graduating engineers have acted as perfect brand ambassadors for the university. Batches of engineers graduated from RGUKT are placed in various companies, Government services and public sector. Some of them have also set up their own business'"
      ]
     },
     "execution_count": 12,
     "metadata": {},
     "output_type": "execute_result"
    }
   ],
   "source": [
    "query=\"Summarize the text\"\n",
    "result = db.similarity_search(query)\n",
    "result[0].page_content"
   ]
  },
  {
   "cell_type": "code",
   "execution_count": 13,
   "metadata": {},
   "outputs": [
    {
     "data": {
      "text/plain": [
       "<langchain_chroma.vectorstores.Chroma at 0x76ddc8f17310>"
      ]
     },
     "execution_count": 13,
     "metadata": {},
     "output_type": "execute_result"
    }
   ],
   "source": [
    "vector_db = Chroma.from_documents(text,embeddings,persist_directory=\"./chroma_db\")\n",
    "vector_db"
   ]
  },
  {
   "cell_type": "code",
   "execution_count": 14,
   "metadata": {},
   "outputs": [
    {
     "data": {
      "text/plain": [
       "[Document(metadata={'source': 'speech.txt'}, page_content='RGUKT has slowly but surely risen in reputation as its graduating engineers have acted as perfect brand ambassadors for the university. Batches of engineers graduated from RGUKT are placed in various companies, Government services and public sector. Some of them have also set up their own business'),\n",
       " Document(metadata={'source': 'speech.txt'}, page_content='recreational facilities, well equipped gymnasium, courts for basketball, badminton, table tennies, cricket, other sports and games.'),\n",
       " Document(metadata={'source': 'speech.txt'}, page_content='Established by the Government of erstwhile Andhra Pradesh vide a special act of legislation, this campus is loacated at the holy land of Basar (the abode of Gnyana Saraswathi, Goddess of knowledge) in Nirmal District (Telangana State). The campus is set in about 272 acres of salubrious and serene'),\n",
       " Document(metadata={'source': 'speech.txt'}, page_content='1,00,000 volumes, boys’ and girls’ hostels and mess blocks that provide quality and nutritious food. The campus is more or less self-sustained with a Laundromat, bank, ATM, Shopping Complex, post office, primary health center etc. It also has indoor and outdoor recreational facilities, well')]"
      ]
     },
     "execution_count": 14,
     "metadata": {},
     "output_type": "execute_result"
    }
   ],
   "source": [
    "db = Chroma(persist_directory=\"./chroma_db\",embedding_function=embeddings)\n",
    "result = db.similarity_search(query)\n",
    "result"
   ]
  },
  {
   "cell_type": "code",
   "execution_count": 15,
   "metadata": {},
   "outputs": [
    {
     "data": {
      "text/plain": [
       "[(Document(metadata={'source': 'speech.txt'}, page_content='RGUKT has slowly but surely risen in reputation as its graduating engineers have acted as perfect brand ambassadors for the university. Batches of engineers graduated from RGUKT are placed in various companies, Government services and public sector. Some of them have also set up their own business'),\n",
       "  7860.908691640049),\n",
       " (Document(metadata={'source': 'speech.txt'}, page_content='recreational facilities, well equipped gymnasium, courts for basketball, badminton, table tennies, cricket, other sports and games.'),\n",
       "  9980.454538519843),\n",
       " (Document(metadata={'source': 'speech.txt'}, page_content='Established by the Government of erstwhile Andhra Pradesh vide a special act of legislation, this campus is loacated at the holy land of Basar (the abode of Gnyana Saraswathi, Goddess of knowledge) in Nirmal District (Telangana State). The campus is set in about 272 acres of salubrious and serene'),\n",
       "  10636.10497604885),\n",
       " (Document(metadata={'source': 'speech.txt'}, page_content='1,00,000 volumes, boys’ and girls’ hostels and mess blocks that provide quality and nutritious food. The campus is more or less self-sustained with a Laundromat, bank, ATM, Shopping Complex, post office, primary health center etc. It also has indoor and outdoor recreational facilities, well'),\n",
       "  11454.964332205847)]"
      ]
     },
     "execution_count": 15,
     "metadata": {},
     "output_type": "execute_result"
    }
   ],
   "source": [
    "result = db.similarity_search_with_score(query)\n",
    "result"
   ]
  },
  {
   "cell_type": "code",
   "execution_count": 17,
   "metadata": {},
   "outputs": [
    {
     "data": {
      "text/plain": [
       "'RGUKT has slowly but surely risen in reputation as its graduating engineers have acted as perfect brand ambassadors for the university. Batches of engineers graduated from RGUKT are placed in various companies, Government services and public sector. Some of them have also set up their own business'"
      ]
     },
     "execution_count": 17,
     "metadata": {},
     "output_type": "execute_result"
    }
   ],
   "source": [
    "retriever = db.as_retriever()\n",
    "result = retriever.invoke(query)\n",
    "result[0].page_content"
   ]
  }
 ],
 "metadata": {
  "kernelspec": {
   "display_name": "Python 3",
   "language": "python",
   "name": "python3"
  },
  "language_info": {
   "codemirror_mode": {
    "name": "ipython",
    "version": 3
   },
   "file_extension": ".py",
   "mimetype": "text/x-python",
   "name": "python",
   "nbconvert_exporter": "python",
   "pygments_lexer": "ipython3",
   "version": "3.10.14"
  }
 },
 "nbformat": 4,
 "nbformat_minor": 2
}
