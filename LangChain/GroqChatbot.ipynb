{
 "cells": [
  {
   "cell_type": "code",
   "execution_count": 37,
   "metadata": {},
   "outputs": [
    {
     "data": {
      "text/plain": [
       "<function dotenv.main.load_dotenv(dotenv_path: Union[str, os.PathLike, NoneType] = None, stream: Optional[IO[str]] = None, verbose: bool = False, override: bool = False, interpolate: bool = True, encoding: Optional[str] = 'utf-8') -> bool>"
      ]
     },
     "execution_count": 37,
     "metadata": {},
     "output_type": "execute_result"
    }
   ],
   "source": [
    "import os\n",
    "from dotenv import load_dotenv\n",
    "load_dotenv()"
   ]
  },
  {
   "cell_type": "code",
   "execution_count": 38,
   "metadata": {},
   "outputs": [],
   "source": [
    "groq_api_key = os.getenv(\"GROQ_API_KEY\")"
   ]
  },
  {
   "cell_type": "code",
   "execution_count": 39,
   "metadata": {},
   "outputs": [],
   "source": [
    "from langchain_groq import ChatGroq\n",
    "model = ChatGroq(model=\"Gemma2-9b-It\",groq_api_key=groq_api_key)\n"
   ]
  },
  {
   "cell_type": "code",
   "execution_count": 40,
   "metadata": {},
   "outputs": [
    {
     "data": {
      "text/plain": [
       "AIMessage(content=\"Hi Anil,\\n\\nIt's great to meet you! \\n\\nBeing in your final year of B.Tech in CSE is a big accomplishment. What are you most looking forward to after graduation? Do you have any specific areas of computer science that you're particularly interested in?  \\n\\nI'm here to help if you have any questions about technology, need help brainstorming ideas, or just want to chat. 😊  \\n\\n\", response_metadata={'token_usage': {'completion_tokens': 90, 'prompt_tokens': 24, 'total_tokens': 114, 'completion_time': 0.163636364, 'prompt_time': 0.000138829, 'queue_time': 0.01288389, 'total_time': 0.163775193}, 'model_name': 'Gemma2-9b-It', 'system_fingerprint': 'fp_10c08bf97d', 'finish_reason': 'stop', 'logprobs': None}, id='run-b15e35d3-d259-420f-a9e3-b972f12f1d9c-0', usage_metadata={'input_tokens': 24, 'output_tokens': 90, 'total_tokens': 114})"
      ]
     },
     "execution_count": 40,
     "metadata": {},
     "output_type": "execute_result"
    }
   ],
   "source": [
    "from langchain_core.messages import HumanMessage\n",
    "\n",
    "model.invoke([HumanMessage(content=\"Hi, I am Anil. I study B.Tech Final Year, CSE\")])\n"
   ]
  },
  {
   "cell_type": "code",
   "execution_count": 41,
   "metadata": {},
   "outputs": [
    {
     "data": {
      "text/plain": [
       "AIMessage(content='You are pursuing a Bachelor of Technology (B.Tech) degree in Computer Science Engineering (CSE).  \\n\\nIs there anything else I can help you with?\\n', response_metadata={'token_usage': {'completion_tokens': 35, 'prompt_tokens': 121, 'total_tokens': 156, 'completion_time': 0.063636364, 'prompt_time': 0.003802237, 'queue_time': 0.009664265, 'total_time': 0.067438601}, 'model_name': 'Gemma2-9b-It', 'system_fingerprint': 'fp_10c08bf97d', 'finish_reason': 'stop', 'logprobs': None}, id='run-adfa5fb1-cccc-4afe-b7a2-eac1704d9d72-0', usage_metadata={'input_tokens': 121, 'output_tokens': 35, 'total_tokens': 156})"
      ]
     },
     "execution_count": 41,
     "metadata": {},
     "output_type": "execute_result"
    }
   ],
   "source": [
    "from langchain_core.messages import AIMessage\n",
    "model.invoke(\n",
    "    [\n",
    "        HumanMessage(content=\"Hi, I am Anil. I study B.Tech Final Year, CSE\"),\n",
    "        AIMessage(content=\"Hey Anil!\\n\\nThat's awesome!  B.Tech in CSE is a challenging but rewarding field. \\n\\nWhat are you most looking forward to in your final year? Are you focusing on any specific areas of computer science?\\n\\nI'm happy to chat about anything related to your studies, tech in general, or even just life as a final year student.  😊\\n\"),\n",
    "        HumanMessage(content=\"Can you please answer what I am pursuing?\")\n",
    "    ]\n",
    ")"
   ]
  },
  {
   "cell_type": "markdown",
   "metadata": {},
   "source": [
    "### Message History\n",
    "We can use a message history class to wrap our model and make it stateful. This will keep track of inputs and outputs of the model, and store them in data store. Future interactions will then load those messages and pass them into the chain as part of the input."
   ]
  },
  {
   "cell_type": "code",
   "execution_count": 42,
   "metadata": {},
   "outputs": [],
   "source": [
    "from langchain_community.chat_message_histories import ChatMessageHistory\n",
    "from langchain_core.chat_history import BaseChatMessageHistory\n",
    "from langchain_core.runnables.history import RunnableWithMessageHistory\n",
    "\n",
    "store = {}\n",
    "\n",
    "def get_session_history(session_id : str)->BaseChatMessageHistory:\n",
    "    if session_id not in store:\n",
    "        store[session_id] = ChatMessageHistory()\n",
    "    return store[session_id]\n",
    "\n",
    "with_message_history = RunnableWithMessageHistory(model,get_session_history)"
   ]
  },
  {
   "cell_type": "code",
   "execution_count": 43,
   "metadata": {},
   "outputs": [],
   "source": [
    "config = {\"configurable\":{\"session_id\":\"chat1\"}}"
   ]
  },
  {
   "cell_type": "code",
   "execution_count": 44,
   "metadata": {},
   "outputs": [
    {
     "data": {
      "text/plain": [
       "AIMessage(content=\"Hi Anil!\\n\\nThat's great!  B.Tech in Computer Science Engineering is a challenging and rewarding field. \\n\\nWhat are you most interested in within CSE? Are you focusing on a particular area like software development, artificial intelligence, cybersecurity, or something else?\\n\\nI'm here to help if you have any questions or need assistance with anything related to CSE or your studies.  😊\\n\", response_metadata={'token_usage': {'completion_tokens': 84, 'prompt_tokens': 24, 'total_tokens': 108, 'completion_time': 0.152727273, 'prompt_time': 0.00014723, 'queue_time': 0.013656228, 'total_time': 0.152874503}, 'model_name': 'Gemma2-9b-It', 'system_fingerprint': 'fp_10c08bf97d', 'finish_reason': 'stop', 'logprobs': None}, id='run-9a55a81b-3add-44e1-b8ab-22f2dbcfce52-0', usage_metadata={'input_tokens': 24, 'output_tokens': 84, 'total_tokens': 108})"
      ]
     },
     "execution_count": 44,
     "metadata": {},
     "output_type": "execute_result"
    }
   ],
   "source": [
    "with_message_history.invoke(\n",
    "    [\n",
    "        HumanMessage(content=\"Hi, I am Anil. I study B.Tech Final Year, CSE\"),\n",
    "    ],\n",
    "    config = config,\n",
    ")"
   ]
  },
  {
   "cell_type": "code",
   "execution_count": 45,
   "metadata": {},
   "outputs": [
    {
     "data": {
      "text/plain": [
       "\"Hi Anil,\\n\\nIt's great to meet you!  Final year of B.Tech is a big milestone. \\n\\nWhat are you most looking forward to after graduation? Are you planning on pursuing a Master's degree, starting your career in the industry, or something else entirely?  \\n\\nI'm here to chat if you want to talk about your plans, or just anything else on your mind!\\n\""
      ]
     },
     "execution_count": 45,
     "metadata": {},
     "output_type": "execute_result"
    }
   ],
   "source": [
    "response = with_message_history.invoke(\n",
    "    [\n",
    "        HumanMessage(content=\"Hi, I am Anil. I study B.Tech Final Year, CSE\"),\n",
    "    ],\n",
    "    config = config,\n",
    ")\n",
    "\n",
    "response.content"
   ]
  },
  {
   "cell_type": "code",
   "execution_count": 46,
   "metadata": {},
   "outputs": [
    {
     "data": {
      "text/plain": [
       "AIMessage(content='Your name is Anil!  I remember you telling me at the beginning of our conversation. 😊  \\n\\nIs there anything else I can help you with?\\n', response_metadata={'token_usage': {'completion_tokens': 34, 'prompt_tokens': 232, 'total_tokens': 266, 'completion_time': 0.061818182, 'prompt_time': 0.00914817, 'queue_time': 0.004188892999999999, 'total_time': 0.070966352}, 'model_name': 'Gemma2-9b-It', 'system_fingerprint': 'fp_10c08bf97d', 'finish_reason': 'stop', 'logprobs': None}, id='run-8b87e707-3221-41e7-a8e8-d8ee22c3d4be-0', usage_metadata={'input_tokens': 232, 'output_tokens': 34, 'total_tokens': 266})"
      ]
     },
     "execution_count": 46,
     "metadata": {},
     "output_type": "execute_result"
    }
   ],
   "source": [
    "with_message_history.invoke(\n",
    "    [\n",
    "        HumanMessage(content=\"What's my name?\"),\n",
    "    ],\n",
    "    config = config,\n",
    ")"
   ]
  },
  {
   "cell_type": "markdown",
   "metadata": {},
   "source": [
    "### Trying by changing the config file"
   ]
  },
  {
   "cell_type": "code",
   "execution_count": 47,
   "metadata": {},
   "outputs": [],
   "source": [
    "### changed config file\n",
    "\n",
    "config2 = {\"configurable\":{\"session_id\":\"chat2\"}}\n"
   ]
  },
  {
   "cell_type": "code",
   "execution_count": 48,
   "metadata": {},
   "outputs": [
    {
     "data": {
      "text/plain": [
       "AIMessage(content=\"As an AI, I have no memory of past conversations and don't know your name. If you'd like to tell me, I'm happy to learn it! 😊  What's your name?\\n\", response_metadata={'token_usage': {'completion_tokens': 47, 'prompt_tokens': 15, 'total_tokens': 62, 'completion_time': 0.085454545, 'prompt_time': 7.416e-05, 'queue_time': 0.014271829, 'total_time': 0.085528705}, 'model_name': 'Gemma2-9b-It', 'system_fingerprint': 'fp_10c08bf97d', 'finish_reason': 'stop', 'logprobs': None}, id='run-5eec752a-f8b5-4035-8097-75a7d699bf20-0', usage_metadata={'input_tokens': 15, 'output_tokens': 47, 'total_tokens': 62})"
      ]
     },
     "execution_count": 48,
     "metadata": {},
     "output_type": "execute_result"
    }
   ],
   "source": [
    "with_message_history.invoke(\n",
    "    [HumanMessage(content=\"What's my name?\")],\n",
    "    config=config2\n",
    ")\n",
    "\n",
    "### Here we can see that there is no data about Anil as we have changed the configuration i.e session_id"
   ]
  },
  {
   "cell_type": "code",
   "execution_count": 49,
   "metadata": {},
   "outputs": [
    {
     "data": {
      "text/plain": [
       "AIMessage(content='Your name is Anil!  \\n\\nIs there anything else I can help you with? 😊  \\n', response_metadata={'token_usage': {'completion_tokens': 22, 'prompt_tokens': 280, 'total_tokens': 302, 'completion_time': 0.04, 'prompt_time': 0.010334964, 'queue_time': 0.003248273999999999, 'total_time': 0.050334964}, 'model_name': 'Gemma2-9b-It', 'system_fingerprint': 'fp_10c08bf97d', 'finish_reason': 'stop', 'logprobs': None}, id='run-8b575677-549d-4a98-9183-dfe652e90ce4-0', usage_metadata={'input_tokens': 280, 'output_tokens': 22, 'total_tokens': 302})"
      ]
     },
     "execution_count": 49,
     "metadata": {},
     "output_type": "execute_result"
    }
   ],
   "source": [
    "with_message_history.invoke(\n",
    "    [HumanMessage(content=\"What's my name?\")],\n",
    "    config=config\n",
    ")"
   ]
  },
  {
   "cell_type": "markdown",
   "metadata": {},
   "source": [
    "### Prompt Templates\n",
    "\n",
    "Prompt templates help to run the raw user information into a format that the LLM can work with. In this case, the raw user input is just a message, which we are passing to the LLM. Let's now make that a bit more complicated. First add in a system message with a custom instructions(but still taking messages as input). Next, we will add in more inputs just beside the messages."
   ]
  },
  {
   "cell_type": "code",
   "execution_count": 53,
   "metadata": {},
   "outputs": [],
   "source": [
    "from langchain_core.prompts import ChatPromptTemplate,MessagesPlaceholder\n",
    "\n",
    "prompt_template = ChatPromptTemplate.from_messages(\n",
    "    [\n",
    "        (\"system\",\"You are a helpful assistant. Please answer the questions asked as best as you know\"),\n",
    "        MessagesPlaceholder(variable_name=\"messages\")\n",
    "    ]\n",
    ")\n",
    "\n",
    "chain = prompt_template|model"
   ]
  },
  {
   "cell_type": "code",
   "execution_count": 54,
   "metadata": {},
   "outputs": [
    {
     "data": {
      "text/plain": [
       "AIMessage(content=\"Hi Anil! It's nice to meet you. \\n\\nWhat can I do for you today?  😊  \\n\", response_metadata={'token_usage': {'completion_tokens': 27, 'prompt_tokens': 29, 'total_tokens': 56, 'completion_time': 0.049090909, 'prompt_time': 0.00013251, 'queue_time': 0.013605058, 'total_time': 0.049223419}, 'model_name': 'Gemma2-9b-It', 'system_fingerprint': 'fp_10c08bf97d', 'finish_reason': 'stop', 'logprobs': None}, id='run-532a7266-f34f-46bd-a11d-c6da08f95442-0', usage_metadata={'input_tokens': 29, 'output_tokens': 27, 'total_tokens': 56})"
      ]
     },
     "execution_count": 54,
     "metadata": {},
     "output_type": "execute_result"
    }
   ],
   "source": [
    "chain.invoke({\"messages\":[HumanMessage(content=\"Hi I am Anil\")]})"
   ]
  },
  {
   "cell_type": "code",
   "execution_count": 55,
   "metadata": {},
   "outputs": [],
   "source": [
    "with_message_history = RunnableWithMessageHistory(chain,get_session_history)"
   ]
  },
  {
   "cell_type": "code",
   "execution_count": 56,
   "metadata": {},
   "outputs": [],
   "source": [
    "config3 = {\"configurable\":{\"session_id\":\"chat3\"}}"
   ]
  },
  {
   "cell_type": "code",
   "execution_count": 57,
   "metadata": {},
   "outputs": [
    {
     "data": {
      "text/plain": [
       "AIMessage(content=\"As an AI, I don't have a personal identity like humans do. You could think of me as a computer program designed to understand and respond to your questions in a helpful and informative way.\\n\\nEssentially, I am a large language model here to assist you with tasks like:\\n\\n* **Providing information:** I can answer your questions based on the vast dataset I was trained on.\\n* **Generating text:** I can create stories, poems, articles, and more.\\n* **Summarizing text:** I can condense large amounts of information into shorter summaries.\\n* **Translating languages:** I can translate text between different languages.\\n\\nIs there anything specific you'd like to know about me or would you like me to help you with something?\\n\", response_metadata={'token_usage': {'completion_tokens': 156, 'prompt_tokens': 29, 'total_tokens': 185, 'completion_time': 0.283636364, 'prompt_time': 0.000140309, 'queue_time': 0.015293141, 'total_time': 0.283776673}, 'model_name': 'Gemma2-9b-It', 'system_fingerprint': 'fp_10c08bf97d', 'finish_reason': 'stop', 'logprobs': None}, id='run-21918f56-ed98-433a-977f-be63fcff8bc7-0', usage_metadata={'input_tokens': 29, 'output_tokens': 156, 'total_tokens': 185})"
      ]
     },
     "execution_count": 57,
     "metadata": {},
     "output_type": "execute_result"
    }
   ],
   "source": [
    "response = with_message_history.invoke([HumanMessage(content=\"Who Am I?\")],config=config3)\n",
    "response"
   ]
  },
  {
   "cell_type": "code",
   "execution_count": 58,
   "metadata": {},
   "outputs": [
    {
     "data": {
      "text/plain": [
       "AIMessage(content=\"Hello Anil, it's nice to meet you! \\n\\nIs there anything I can help you with today? 😊  \\n\", response_metadata={'token_usage': {'completion_tokens': 28, 'prompt_tokens': 199, 'total_tokens': 227, 'completion_time': 0.050909091, 'prompt_time': 0.010388805, 'queue_time': 0.0034180540000000002, 'total_time': 0.061297896}, 'model_name': 'Gemma2-9b-It', 'system_fingerprint': 'fp_10c08bf97d', 'finish_reason': 'stop', 'logprobs': None}, id='run-c8bb2553-ed48-42bc-aa10-17af8bbd641e-0', usage_metadata={'input_tokens': 199, 'output_tokens': 28, 'total_tokens': 227})"
      ]
     },
     "execution_count": 58,
     "metadata": {},
     "output_type": "execute_result"
    }
   ],
   "source": [
    "response = with_message_history.invoke([HumanMessage(content=\"Hello, I am Anil?\")],config=config3)\n",
    "response"
   ]
  },
  {
   "cell_type": "code",
   "execution_count": 59,
   "metadata": {},
   "outputs": [
    {
     "data": {
      "text/plain": [
       "AIMessage(content=\"That's a great question!  Since you asked me, I can only tell you what you've told me so far:\\n\\nYou are Anil. \\n\\nIs there anything else you'd like to tell me about yourself? Perhaps your hobbies, where you're from, or what you like to do? \\n\\nThe more you tell me, the better I can understand who you are! 😊  \\n\\n\", response_metadata={'token_usage': {'completion_tokens': 88, 'prompt_tokens': 239, 'total_tokens': 327, 'completion_time': 0.16, 'prompt_time': 0.00873059, 'queue_time': 0.005697880000000001, 'total_time': 0.16873059}, 'model_name': 'Gemma2-9b-It', 'system_fingerprint': 'fp_10c08bf97d', 'finish_reason': 'stop', 'logprobs': None}, id='run-8a8c14bd-17a4-4e19-94c0-e19b9acdb981-0', usage_metadata={'input_tokens': 239, 'output_tokens': 88, 'total_tokens': 327})"
      ]
     },
     "execution_count": 59,
     "metadata": {},
     "output_type": "execute_result"
    }
   ],
   "source": [
    "response = with_message_history.invoke([HumanMessage(content=\"Who Am I?\")],config=config3)\n",
    "response"
   ]
  },
  {
   "cell_type": "code",
   "execution_count": 62,
   "metadata": {},
   "outputs": [],
   "source": [
    "### Customizing the prompt template by adding a specific language translation\n",
    "prompt_template = ChatPromptTemplate.from_messages(\n",
    "    [\n",
    "        (\"system\",\"You are a helpful assistant. Please answer the questions asked as best as you know in {language}\"),\n",
    "        MessagesPlaceholder(variable_name=\"messages\")\n",
    "    ]\n",
    ")\n",
    "\n",
    "chain = prompt_template|model"
   ]
  },
  {
   "cell_type": "code",
   "execution_count": 75,
   "metadata": {},
   "outputs": [
    {
     "data": {
      "text/plain": [
       "'एआई यानी **कृत्रिम बुद्धिमत्ता**  \\n\\nकल्पना करो, एक मशीन जो इंसानों की तरह सोच सकती है, सीख सकती है और समस्याओं का हल कर सकती है।  यह  ही कृत्रिम बुद्धिमत्ता है। \\n\\nयह एक ऐसा क्षेत्र है जहाँ कंप्यूटर और रोबोट्स को मानव बुद्धिमत्ता जैसी क्षमताएं देने की कोशिश की जाती है। \\n\\nउदाहरण के लिए, \\n\\n* **वॉयस असिस्टेंट**: जैसे कि Google Assistant या Alexa\\n* **फ़ोटो रिकॉग्निशन**: Facebook पर चेहरे की पहचान\\n* **मशीन ट्रांसलेशन**: Google Translate \\n\\nये सभी कृत्रिम बुद्धिमत्ता के उदाहरण हैं। \\n\\n\\nमुझे उम्मीद है कि यह समझ में आया होगा! क्या आप इसके बारे में और जानना चाहते हैं?\\n'"
      ]
     },
     "execution_count": 75,
     "metadata": {},
     "output_type": "execute_result"
    }
   ],
   "source": [
    "response = chain.invoke({\"messages\":[HumanMessage(content=\"What is AI\")],\"language\":\"Hindi\"})\n",
    "response.content"
   ]
  },
  {
   "cell_type": "markdown",
   "metadata": {},
   "source": [
    "Let's now wrap this more complicated chain in a Message History Class. Because, there are multiple keys in the input. We need to specify the correct keys to save and use the chat History"
   ]
  },
  {
   "cell_type": "code",
   "execution_count": 76,
   "metadata": {},
   "outputs": [],
   "source": [
    "with_message_history = RunnableWithMessageHistory(\n",
    "    chain,\n",
    "    get_session_history,\n",
    "    input_messages_key=\"messages\",\n",
    ")"
   ]
  },
  {
   "cell_type": "code",
   "execution_count": 79,
   "metadata": {},
   "outputs": [
    {
     "data": {
      "text/plain": [
       "'హలో అనిల్ గారు! 😊 మీరు ఏంటి అడుగుతున్నారు? \\n'"
      ]
     },
     "execution_count": 79,
     "metadata": {},
     "output_type": "execute_result"
    }
   ],
   "source": [
    "config4 = {\"configurable\":{\"session_id\":\"chat4\"}}\n",
    "response = with_message_history.invoke(\n",
    "    {\"messages\":[HumanMessage(content=\"Hello! I am Anil\")],\"language\":\"Telugu\"},\n",
    "    config=config4\n",
    ")\n",
    "\n",
    "response.content"
   ]
  },
  {
   "cell_type": "code",
   "execution_count": 80,
   "metadata": {},
   "outputs": [
    {
     "data": {
      "text/plain": [
       "'మీ పేరు అనిల్ గారు.  😊 \\n'"
      ]
     },
     "execution_count": 80,
     "metadata": {},
     "output_type": "execute_result"
    }
   ],
   "source": [
    "response = with_message_history.invoke(\n",
    "    {\"messages\":[HumanMessage(content=\"What's my name?\")],\"language\":\"Telugu\"},\n",
    "    config=config4\n",
    ")\n",
    "\n",
    "response.content"
   ]
  },
  {
   "cell_type": "markdown",
   "metadata": {},
   "source": [
    "### Managing the Conversation History\n",
    "\n",
    "One important concept to understand when building chat bots is managing conversation history. If left unmanaged, the list of messages will grow in number and potentially overflow the context window of the LLM. Therefore, it is important to add a step that limits the size of messages when you are passing in.\n",
    "\n",
    "trim_messages: Helper to reduce how many messages we are sending to the model. This trimmer allows us to specify how many tokens we want to keep, along with the parameters like if we want to always keep the system message and whether allow to make partial messages.  "
   ]
  },
  {
   "cell_type": "code",
   "execution_count": 92,
   "metadata": {},
   "outputs": [
    {
     "data": {
      "text/plain": [
       "[SystemMessage(content='You are a good assistant'),\n",
       " HumanMessage(content='I like vanilla Ice cream!'),\n",
       " SystemMessage(content='nice'),\n",
       " HumanMessage(content='what is 2+2'),\n",
       " SystemMessage(content='4'),\n",
       " HumanMessage(content='Thanks'),\n",
       " SystemMessage(content='No problem'),\n",
       " HumanMessage(content='Having fun'),\n",
       " SystemMessage(content='Yes')]"
      ]
     },
     "execution_count": 92,
     "metadata": {},
     "output_type": "execute_result"
    }
   ],
   "source": [
    "from langchain_core.messages import SystemMessage,trim_messages\n",
    "\n",
    "trimmer = trim_messages(\n",
    "    max_tokens = 50,\n",
    "    strategy = \"last\",\n",
    "    token_counter = model,\n",
    "    include_system = True,\n",
    "    allow_partial = False,\n",
    "    start_on = \"human\"\n",
    ")\n",
    "\n",
    "messages = [\n",
    "    SystemMessage(content=\"You are a good assistant\"),\n",
    "    HumanMessage(content=\"Hi! I'm Bob\"),\n",
    "    SystemMessage(content=\"Hi\"),\n",
    "    HumanMessage(content=\"I like vanilla Ice cream!\"),\n",
    "    SystemMessage(content=\"nice\"),\n",
    "    HumanMessage(content=\"what is 2+2\"),\n",
    "    SystemMessage(content=\"4\"),\n",
    "    HumanMessage(content=\"Thanks\"),\n",
    "    SystemMessage(content=\"No problem\"),\n",
    "    HumanMessage(content = \"Having fun\"),\n",
    "    SystemMessage(content = \"Yes\")\n",
    "]\n",
    "\n",
    "trimmer.invoke(messages)"
   ]
  },
  {
   "cell_type": "code",
   "execution_count": 93,
   "metadata": {},
   "outputs": [
    {
     "data": {
      "text/plain": [
       "[SystemMessage(content='You are a good assistant'),\n",
       " HumanMessage(content='Thanks'),\n",
       " SystemMessage(content='No problem'),\n",
       " HumanMessage(content='Having fun'),\n",
       " SystemMessage(content='Yes')]"
      ]
     },
     "execution_count": 93,
     "metadata": {},
     "output_type": "execute_result"
    }
   ],
   "source": [
    "from langchain_core.messages import SystemMessage,trim_messages\n",
    "\n",
    "trimmer = trim_messages(\n",
    "    max_tokens = 30,\n",
    "    strategy = \"last\",\n",
    "    token_counter = model,\n",
    "    include_system = True,\n",
    "    allow_partial = False,\n",
    "    start_on = \"human\"\n",
    ")\n",
    "\n",
    "messages = [\n",
    "    SystemMessage(content=\"You are a good assistant\"),\n",
    "    HumanMessage(content=\"Hi! I'm Bob\"),\n",
    "    SystemMessage(content=\"Hi\"),\n",
    "    HumanMessage(content=\"I like vanilla Ice cream!\"),\n",
    "    SystemMessage(content=\"nice\"),\n",
    "    HumanMessage(content=\"what is 2+2\"),\n",
    "    SystemMessage(content=\"4\"),\n",
    "    HumanMessage(content=\"Thanks\"),\n",
    "    SystemMessage(content=\"No problem\"),\n",
    "    HumanMessage(content = \"Having fun\"),\n",
    "    SystemMessage(content = \"Yes\")\n",
    "]\n",
    "\n",
    "trimmer.invoke(messages)"
   ]
  },
  {
   "cell_type": "code",
   "execution_count": 94,
   "metadata": {},
   "outputs": [
    {
     "data": {
      "text/plain": [
       "[SystemMessage(content='You are a good assistant'),\n",
       " HumanMessage(content='what is 2+2'),\n",
       " SystemMessage(content='4'),\n",
       " HumanMessage(content='Thanks'),\n",
       " SystemMessage(content='No problem'),\n",
       " HumanMessage(content='Having fun'),\n",
       " SystemMessage(content='Yes')]"
      ]
     },
     "execution_count": 94,
     "metadata": {},
     "output_type": "execute_result"
    }
   ],
   "source": [
    "from langchain_core.messages import SystemMessage,trim_messages\n",
    "\n",
    "trimmer = trim_messages(\n",
    "    max_tokens = 40,\n",
    "    strategy = \"last\",\n",
    "    token_counter = model,\n",
    "    include_system = True,\n",
    "    allow_partial = False,\n",
    "    start_on = \"human\"\n",
    ")\n",
    "\n",
    "messages = [\n",
    "    SystemMessage(content=\"You are a good assistant\"),\n",
    "    HumanMessage(content=\"Hi! I'm Bob\"),\n",
    "    SystemMessage(content=\"Hi\"),\n",
    "    HumanMessage(content=\"I like vanilla Ice cream!\"),\n",
    "    SystemMessage(content=\"nice\"),\n",
    "    HumanMessage(content=\"what is 2+2\"),\n",
    "    SystemMessage(content=\"4\"),\n",
    "    HumanMessage(content=\"Thanks\"),\n",
    "    SystemMessage(content=\"No problem\"),\n",
    "    HumanMessage(content = \"Having fun\"),\n",
    "    SystemMessage(content = \"Yes\")\n",
    "]\n",
    "\n",
    "trimmer.invoke(messages)"
   ]
  },
  {
   "cell_type": "code",
   "execution_count": 95,
   "metadata": {},
   "outputs": [
    {
     "data": {
      "text/plain": [
       "' నేను మీకు తెలియదు! మీకు నచ్చే ఐస్ క్రీం రుచి ఏమిటో చెప్పండి.  🍦\\n'"
      ]
     },
     "execution_count": 95,
     "metadata": {},
     "output_type": "execute_result"
    }
   ],
   "source": [
    "from operator import itemgetter\n",
    "from langchain_core.runnables import RunnablePassthrough\n",
    "\n",
    "chain = (RunnablePassthrough.assign(messages = itemgetter(\"messages\")|trimmer)|prompt_template|model)\n",
    "\n",
    "response = chain.invoke(\n",
    "    {\n",
    "        \"messages\":messages + [HumanMessage(content=\"What Ice Cream do I like?\")], \"language\":\"Telugu\"\n",
    "    }\n",
    ")\n",
    "\n",
    "response.content\n",
    "\n",
    "### The AI doesn't know the output because I have reduced the tokens from the initial ones. "
   ]
  },
  {
   "cell_type": "code",
   "execution_count": 98,
   "metadata": {},
   "outputs": [
    {
     "data": {
      "text/plain": [
       "'You asked me \"What is 2+2?\".  \\n\\nIs there anything else I can help you with? 😊  \\n'"
      ]
     },
     "execution_count": 98,
     "metadata": {},
     "output_type": "execute_result"
    }
   ],
   "source": [
    "response = chain.invoke(\n",
    "    {\n",
    "        \"messages\":messages + [HumanMessage(content=\"What problem I have asked you?\")], \"language\":\"English\"\n",
    "    }\n",
    ")\n",
    "response.content\n",
    "### gives output because the content is present in the reduced token size"
   ]
  }
 ],
 "metadata": {
  "kernelspec": {
   "display_name": "base",
   "language": "python",
   "name": "python3"
  },
  "language_info": {
   "codemirror_mode": {
    "name": "ipython",
    "version": 3
   },
   "file_extension": ".py",
   "mimetype": "text/x-python",
   "name": "python",
   "nbconvert_exporter": "python",
   "pygments_lexer": "ipython3",
   "version": "3.12.4"
  }
 },
 "nbformat": 4,
 "nbformat_minor": 2
}
